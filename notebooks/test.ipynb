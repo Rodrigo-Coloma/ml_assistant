{
 "cells": [
  {
   "cell_type": "code",
   "execution_count": 1,
   "metadata": {},
   "outputs": [],
   "source": [
    "from openai import OpenAI\n",
    "import pandas as pd\n",
    "import pymongo as pm\n",
    "from dotenv import dotenv_values"
   ]
  },
  {
   "cell_type": "code",
   "execution_count": 2,
   "metadata": {},
   "outputs": [],
   "source": [
    "def gpt_connect():\n",
    "    gpt_key = dotenv_values('../.env')['GPTAPIKEY']\n",
    "    return OpenAI(api_key=gpt_key)\n",
    "\n",
    "client = gpt_connect()"
   ]
  },
  {
   "cell_type": "code",
   "execution_count": 3,
   "metadata": {},
   "outputs": [],
   "source": [
    "use_cases = ['Receive an email notification whenever a new support ticket is submitted in a helpdesk system like Zendesk or Freshdesk',\n",
    "             'Sync contact information between Microsoft Outlook and Salesforce, ensuring that all customer data is up-to-date across both platforms services, ensuring consistency across platforms',\n",
    "             'Automatically create a task in Microsoft Planner whenever a new form response is submitted through Microsoft Forms.',\n",
    "             'Route purchase orders for approval to the appropriate manager based on the order amount and automatically update the status in an ERP system like SAP or Dynamics 365 once approved.',\n",
    "             \"Automatically collect tweets mentioning your company's name and sentiment analysis from Twitter and store them in a SharePoint list for further analysis.\",\n",
    "             \"Automatically move email attachments from Outlook to a specific folder in OneDrive for Business for easier access and organization.\"]\n"
   ]
  },
  {
   "cell_type": "code",
   "execution_count": 9,
   "metadata": {},
   "outputs": [],
   "source": [
    "flow_jsons= []\n",
    "for use_case in use_cases:     \n",
    "    completion = client.chat.completions.create(\n",
    "                model=\"gpt-4-1106-preview\",\n",
    "                temperature= 0.4,\n",
    "                response_format={ \"type\": \"json_object\" },\n",
    "                messages=[{\"role\": \"user\", \"content\": f\"Create a complex power automate workflow to {use_case} and answer with the corresponding export json including flow_name, description, triggers and at least 4 actions\"}])\n",
    "\n",
    "    flow_jsons.append(completion.choices[0].message)"
   ]
  },
  {
   "cell_type": "code",
   "execution_count": 12,
   "metadata": {},
   "outputs": [
    {
     "name": "stdout",
     "output_type": "stream",
     "text": [
      "\n",
      "{\n",
      "    \"flow_name\": \"Move Email Attachments to OneDrive for Business\",\n",
      "    \"description\": \"This flow automatically moves email attachments from Outlook to a specified folder in OneDrive for Business when a new email arrives. It helps with easier access and organization of email attachments.\",\n",
      "    \"triggers\": [\n",
      "        {\n",
      "            \"type\": \"When a new email arrives (V3)\",\n",
      "            \"inputs\": {\n",
      "                \"folderPath\": \"Inbox\",\n",
      "                \"includeAttachments\": true,\n",
      "                \"subjectFilter\": \"\",\n",
      "                \"from\": \"\",\n",
      "                \"importance\": \"\",\n",
      "                \"onlyWithAttachments\": true\n",
      "            }\n",
      "        }\n",
      "    ],\n",
      "    \"actions\": [\n",
      "        {\n",
      "            \"name\": \"Initialize variable\",\n",
      "            \"type\": \"Initialize variable\",\n",
      "            \"inputs\": {\n",
      "                \"name\": \"AttachmentNames\",\n",
      "                \"type\": \"Array\",\n",
      "                \"value\": []\n",
      "            }\n",
      "        },\n",
      "        {\n",
      "            \"name\": \"For each attachment\",\n",
      "            \"type\": \"Apply to each\",\n",
      "            \"inputs\": {\n",
      "                \"value\": \"@triggerOutputs()?['headers']['x-ms-file-name']\"\n",
      "            },\n",
      "            \"actions\": [\n",
      "                {\n",
      "                    \"name\": \"Create file in OneDrive for Business\",\n",
      "                    \"type\": \"Create file\",\n",
      "                    \"inputs\": {\n",
      "                        \"folderPath\": \"/EmailAttachments\",\n",
      "                        \"name\": \"@{items('For_each_attachment')?['Name']}\",\n",
      "                        \"fileContent\": \"@{items('For_each_attachment')?['ContentBytes']}\"\n",
      "                    }\n",
      "                },\n",
      "                {\n",
      "                    \"name\": \"Append to variable\",\n",
      "                    \"type\": \"Append to array variable\",\n",
      "                    \"inputs\": {\n",
      "                        \"name\": \"AttachmentNames\",\n",
      "                        \"value\": \"@{items('For_each_attachment')?['Name']}\"\n",
      "                    }\n",
      "                }\n",
      "            ]\n",
      "        },\n",
      "        {\n",
      "            \"name\": \"Send an email notification\",\n",
      "            \"type\": \"Send an email (V2)\",\n",
      "            \"inputs\": {\n",
      "                \"To\": \"@triggerOutputs()?['headers']['from']\",\n",
      "                \"Subject\": \"Your attachments have been moved to OneDrive\",\n",
      "                \"Body\": \"<p>The following attachments have been moved to OneDrive:</p><ul>@{join(variables('AttachmentNames'), '</li><li>')}</ul>\"\n",
      "            }\n",
      "        },\n",
      "        {\n",
      "            \"name\": \"Condition check\",\n",
      "            \"type\": \"Condition\",\n",
      "            \"inputs\": {\n",
      "                \"value\": \"@length(variables('AttachmentNames'))\",\n",
      "                \"operator\": \"is greater than\",\n",
      "                \"value\": 0\n",
      "            },\n",
      "            \"actions\": {\n",
      "                \"If_yes\": [\n",
      "                    {\n",
      "                        \"name\": \"Post a message as the Flow bot to a user\",\n",
      "                        \"type\": \"Post message\",\n",
      "                        \"inputs\": {\n",
      "                            \"recipient\": \"@triggerOutputs()?['headers']['from']\",\n",
      "                            \"message\": \"Your email attachments have successfully been moved to the OneDrive folder: /EmailAttachments\"\n",
      "                        }\n",
      "                    }\n",
      "                ],\n",
      "                \"If_no\": [\n",
      "                    {\n",
      "                        \"name\": \"Do nothing\",\n",
      "                        \"type\": \"No-op\"\n",
      "                    }\n",
      "                ]\n",
      "            }\n",
      "        }\n",
      "    ]\n",
      "}\n",
      "\n",
      " \n"
     ]
    }
   ],
   "source": [
    "print(flow_jsons[5].content)"
   ]
  },
  {
   "cell_type": "code",
   "execution_count": null,
   "metadata": {},
   "outputs": [],
   "source": []
  }
 ],
 "metadata": {
  "kernelspec": {
   "display_name": "streamlit_env",
   "language": "python",
   "name": "python3"
  },
  "language_info": {
   "codemirror_mode": {
    "name": "ipython",
    "version": 3
   },
   "file_extension": ".py",
   "mimetype": "text/x-python",
   "name": "python",
   "nbconvert_exporter": "python",
   "pygments_lexer": "ipython3",
   "version": "3.9.0"
  }
 },
 "nbformat": 4,
 "nbformat_minor": 2
}
